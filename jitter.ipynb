{
 "cells": [
  {
   "cell_type": "markdown",
   "metadata": {},
   "source": [
    "## Moteur d'émulation de Miasm\n",
    "\n",
    "Ce petit document est une introduction aux API du moteur d'émulation de Miasm.\n",
    "Ce moteur d'émulation est la plupart du temps appelé **jitter** dans l'ensemble du code du projet (car il se base sur des méthodes de [JiT](https://en.wikipedia.org/wiki/Just-in-time_compilation))."
   ]
  },
  {
   "cell_type": "markdown",
   "metadata": {},
   "source": [
    "La première chose à faire est d'obtenir une instance du *jitter*. Pour ce faire, nous allons passer par un object intermédiaire, `Machine`. Il va nous permettre d'instancier un ensemble d'élément lié à une architecture donnée supportée par Miasm (x86, arm, mips, ...)."
   ]
  },
  {
   "cell_type": "code",
   "execution_count": 1,
   "metadata": {},
   "outputs": [
    {
     "data": {
      "text/plain": [
       "['arml',\n",
       " 'armb',\n",
       " 'armtl',\n",
       " 'armtb',\n",
       " 'sh4',\n",
       " 'x86_16',\n",
       " 'x86_32',\n",
       " 'x86_64',\n",
       " 'msp430',\n",
       " 'mips32b',\n",
       " 'mips32l',\n",
       " 'aarch64l',\n",
       " 'aarch64b',\n",
       " 'ppc32b',\n",
       " 'mepl',\n",
       " 'mepb']"
      ]
     },
     "execution_count": 32,
     "metadata": {},
     "output_type": "execute_result"
    }
   ],
   "source": [
    "from miasm.analysis.machine import Machine\n",
    "Machine.available_machine()"
   ]
  },
  {
   "cell_type": "code",
   "execution_count": 33,
   "metadata": {},
   "outputs": [
    {
     "name": "stdout",
     "output_type": "stream",
     "text": [
      "x86_32\n"
     ]
    }
   ],
   "source": [
    "machine = Machine(\"x86_32\")\n",
    "print machine.name"
   ]
  },
  {
   "cell_type": "markdown",
   "metadata": {},
   "source": [
    "`Machine` propose plusieurs interfaces:\n",
    "* `jitter`: un moteur d'émulation\n",
    "* `dis_engine`: un moteur de désassemblage\n",
    "* `ir`: un moteur pour l'utilisation du langage intermédiaire (hors scope)\n",
    "* `ira`: quasiment comme `ir` (hors scope)\n",
    "* `mn`: l'objet contenant les APIs de bas niveau pour une architecture donnée (désassemblage d'une ligne, assemblage, etc.)\n",
    "* `gdbserver`: un serveur GDB (parlant le protocol GDB, à lié avec une instance de jitter)"
   ]
  },
  {
   "cell_type": "markdown",
   "metadata": {},
   "source": [
    "Pour obtenir un jitter, nous allons devoir préciser le moteur de jit sur lequel nous souhaitons nous reposer.\n",
    "Ici, cela n'a pas grande importance, mais les options possibles sont :\n",
    "* \"python\": un moteur basé sur de l'exécution entièrement en Python, lent\n",
    "* \"gcc\": un moteur basé sur du JiT via le compilateur GCC, rapide\n",
    "* \"llvm\": un moteur basé sur du JiT via le compilateur LLVM, rapide"
   ]
  },
  {
   "cell_type": "code",
   "execution_count": 4,
   "metadata": {},
   "outputs": [
    {
     "name": "stdout",
     "output_type": "stream",
     "text": [
      "<miasm.arch.x86.jit.jitter_x86_32 object at 0x7f6e4aff0090>\n"
     ]
    }
   ],
   "source": [
    "jitter = machine.jitter(\"python\")\n",
    "print jitter"
   ]
  },
  {
   "cell_type": "markdown",
   "metadata": {},
   "source": [
    "Notre *jitter* instancié, il représente maintenant une \"coquille vide\", contenant des registres (un *cpu* avec au départ des registres qui valent tous 0) et une mémoire virtuelle (*vm*, pour *Virtual Memory*).\n",
    "Pour manipuler les registres :"
   ]
  },
  {
   "cell_type": "code",
   "execution_count": 5,
   "metadata": {},
   "outputs": [
    {
     "data": {
      "text/plain": [
       "0L"
      ]
     },
     "execution_count": 5,
     "metadata": {},
     "output_type": "execute_result"
    }
   ],
   "source": [
    "jitter.cpu.EAX"
   ]
  },
  {
   "cell_type": "code",
   "execution_count": 6,
   "metadata": {},
   "outputs": [
    {
     "data": {
      "text/plain": [
       "1L"
      ]
     },
     "execution_count": 6,
     "metadata": {},
     "output_type": "execute_result"
    }
   ],
   "source": [
    "jitter.cpu.EAX = 1\n",
    "jitter.cpu.EAX"
   ]
  },
  {
   "cell_type": "code",
   "execution_count": 7,
   "metadata": {},
   "outputs": [
    {
     "name": "stdout",
     "output_type": "stream",
     "text": [
      "{'FS': 0L, 'RCX': 0L, 'af': 0L, 'MM5': 0L, 'MM4': 0L, 'zf': 0L, 'MM6': 0L, 'MM1': 0L, 'cf': 0L, 'MM3': 0L, 'MM2': 0L, 'XMM10': 0L, 'XMM11': 0L, 'XMM12': 0L, 'XMM13': 0L, 'XMM14': 0L, 'nf': 0L, 'DS': 0L, 'R14': 0L, 'R15': 0L, 'R12': 0L, 'R13': 0L, 'R10': 0L, 'R11': 0L, 'tsc': 1234605616436508552L, 'RIP': 0L, 'pf': 0L, 'MM7': 0L, 'RAX': 1L, 'GS': 0L, 'RBX': 0L, 'df': 0L, 'R8': 0L, 'R9': 0L, 'RDX': 0L, 'MM0': 0L, 'CS': 0L, 'RBP': 0L, 'RDI': 0L, 'ES': 0L, 'RSI': 0L, 'SS': 0L, 'of': 0L, 'XMM2': 0L, 'XMM3': 0L, 'XMM0': 0L, 'XMM1': 0L, 'XMM6': 0L, 'XMM7': 0L, 'XMM4': 0L, 'XMM5': 0L, 'XMM8': 0L, 'XMM9': 0L, 'RSP': 0L, 'XMM15': 0L}\n"
     ]
    }
   ],
   "source": [
    "# GPReg : General Purpose registers\n",
    "regs = jitter.cpu.get_gpreg()\n",
    "print regs"
   ]
  },
  {
   "cell_type": "markdown",
   "metadata": {},
   "source": [
    "La mémoire est manipulée grâce à `jitter.vm`. C'est au départ une coquille vide, sans aucun contenu"
   ]
  },
  {
   "cell_type": "code",
   "execution_count": 8,
   "metadata": {},
   "outputs": [
    {
     "data": {
      "text/plain": [
       "Addr               Size               Access Comment"
      ]
     },
     "execution_count": 8,
     "metadata": {},
     "output_type": "execute_result"
    }
   ],
   "source": [
    "jitter.vm"
   ]
  },
  {
   "cell_type": "markdown",
   "metadata": {},
   "source": [
    "Il est alors possible d'y ajouter des pages mémoires, à des adresses arbitraires, de taille arbitraire (ie. pas d'arrondi à 0x1000 comme ce qui peut se produire sur certaines architectures réelles), avec du contenu, des droits d'accès ainsi qu'un commentaire (optionnel)."
   ]
  },
  {
   "cell_type": "code",
   "execution_count": 9,
   "metadata": {},
   "outputs": [
    {
     "data": {
      "text/plain": [
       "Addr               Size               Access Comment\n",
       "0x1000             0x1000             RWX    test page\n",
       "0x112233           0x666              RWX    pas d'arrondi"
      ]
     },
     "execution_count": 9,
     "metadata": {},
     "output_type": "execute_result"
    }
   ],
   "source": [
    "from miasm.jitter.csts import PAGE_READ, PAGE_WRITE, PAGE_EXEC\n",
    "jitter.vm.add_memory_page(0x1000, PAGE_READ | PAGE_WRITE | PAGE_EXEC, \"\\x00\" * 0x1000, \"test page\")\n",
    "jitter.vm.add_memory_page(0x112233, PAGE_READ | PAGE_WRITE | PAGE_EXEC, \"\\x00\" * 0x666, \"pas d'arrondi\")\n",
    "jitter.vm"
   ]
  },
  {
   "cell_type": "markdown",
   "metadata": {},
   "source": [
    "La mémoire peut être accèder, en écriture et en lecture, depuis le Python :"
   ]
  },
  {
   "cell_type": "code",
   "execution_count": 10,
   "metadata": {},
   "outputs": [
    {
     "data": {
      "text/plain": [
       "'\\x00\\x00\\x00\\x00\\x00\\x00\\x00\\x00\\x00\\x00\\x00\\x00\\x00\\x00\\x00\\x00'"
      ]
     },
     "execution_count": 10,
     "metadata": {},
     "output_type": "execute_result"
    }
   ],
   "source": [
    "jitter.vm.get_mem(0x1000, 0x10)"
   ]
  },
  {
   "cell_type": "code",
   "execution_count": 11,
   "metadata": {},
   "outputs": [
    {
     "data": {
      "text/plain": [
       "'toto\\x00\\x00\\x00\\x00\\x00\\x00\\x00\\x00\\x00\\x00\\x00\\x00'"
      ]
     },
     "execution_count": 11,
     "metadata": {},
     "output_type": "execute_result"
    }
   ],
   "source": [
    "jitter.vm.set_mem(0x1000, \"toto\")\n",
    "jitter.vm.get_mem(0x1000, 0x10)"
   ]
  },
  {
   "cell_type": "markdown",
   "metadata": {},
   "source": [
    "Quelques fonctions sont présentes pour faciliter les tâches les plus courantes, comme récupérer une chaîne de caractère ANSI:"
   ]
  },
  {
   "cell_type": "code",
   "execution_count": 12,
   "metadata": {},
   "outputs": [
    {
     "data": {
      "text/plain": [
       "'toto'"
      ]
     },
     "execution_count": 12,
     "metadata": {},
     "output_type": "execute_result"
    }
   ],
   "source": [
    "jitter.get_str_ansi(0x1000)"
   ]
  },
  {
   "cell_type": "markdown",
   "metadata": {},
   "source": [
    "Nous allons maintenant placer du code dans l'émulateur, puis l'éxecuter en logguant l'état des registres (`log_regs`) et l'instruction correspondante (`log_mn`)."
   ]
  },
  {
   "cell_type": "code",
   "execution_count": 13,
   "metadata": {},
   "outputs": [],
   "source": [
    "jitter.vm.set_mem(0x1000, \"B844332211C3\".decode('hex'))\n",
    "jitter.set_trace_log()"
   ]
  },
  {
   "cell_type": "markdown",
   "metadata": {
    "collapsed": true
   },
   "source": [
    "L'émulation est initié à l'adresse 0x1000 via `jitter.init_run(adresse)` et est lancé par `jitter.continue_run()`.\n",
    "Dans certain cas d'arrêt de l'émulation, c'est cette même API qui nous permettra de continuer l'exécution en reprenant où elle en était."
   ]
  },
  {
   "cell_type": "code",
   "execution_count": null,
   "metadata": {
    "scrolled": false
   },
   "outputs": [],
   "source": [
    "jitter.vm.add_memory_page(0x88880000, PAGE_READ | PAGE_WRITE | PAGE_EXEC, \"\\x00\" * 0x1000, \"stack\")\n",
    "jitter.vm.set_mem(0x88880000, \"\\xfe\\xbe\\x37\\x17\")\n",
    "jitter.cpu.ESP = 0x88880000 + 4\n",
    "\n",
    "jitter.init_run(0x1000)\n",
    "jitter.continue_run()\n",
    "# /!\\ l'état des registres n'est pas affiché dans Jupyter, c'est normal !\n",
    "# La sortie n'est pas rattrapée, elle est donc présente dans votre terminal de lancement de jupyter\n",
    "\n",
    "# /!\\ Il est normal de finir sur un \"AssertionError: assert(self.get_exception() == 0)\""
   ]
  },
  {
   "cell_type": "markdown",
   "metadata": {
    "collapsed": true
   },
   "source": [
    "L'exécution \"MOV, RET\" fini par lever une exception. C'est un comportement tout à fait normal, nous n'avons pas placé de stack en mémoire, et nous essayons de faire un RET. Un déréférencement de 0 intervient donc, ce qui se traduit par le message :\n",
    "`\"WARNING: address 0x0 is not mapped in virtual memory\"`"
   ]
  },
  {
   "cell_type": "markdown",
   "metadata": {
    "collapsed": true
   },
   "source": [
    "### Exercice 1\n",
    "En redémarrant avec une nouvelle instance de jitter :\n",
    "1. Ajoutez une page mémoire qui servira de stack\n",
    "1. Faites pointer le pointeur de stack dessus (attention, la stack \"marche à l'envers\")\n",
    "1. Ajoutez une valeur dans la stack, pour qu'elle soit utilisée par le RET\n",
    "1. Lancez l'émulation, et vérifiez que vous finissez bien sur l'adresse de votre choix (il n'y a pas de code à cet endroit)"
   ]
  },
  {
   "cell_type": "markdown",
   "metadata": {},
   "source": [
    "### Exercice 1 - Spoiler\n",
    "Attention, spoiler ! Réalisez d'abord l'exercice 1 avec les APIs présentées ci-dessus.\n",
    "Une fois que tout marche, sélectionnez le texte ci-dessous pour voir de nouvelles APIs (blanc sur blanc)"
   ]
  },
  {
   "cell_type": "code",
   "execution_count": 45,
   "metadata": {},
   "outputs": [
    {
     "name": "stdout",
     "output_type": "stream",
     "text": [
      "4096\n"
     ]
    }
   ],
   "source": [
    "<pre style=\"color:white\">\n",
    "# Init a stack and set stack pointer accordingly (architecture agnostic way of writing)\n",
    "jitter.init_stack()\n",
    "\n",
    "# Push 0x1000 on the stack\n",
    "jitter.push_uint32_t(0x1000)\n",
    "\n",
    "# Pop 0x1000 from the stack\n",
    "print jitter.pop_uint32_t()\n",
    "</pre>"
   ]
  },
  {
   "cell_type": "markdown",
   "metadata": {},
   "source": [
    "Il est aussi possible de poser des breakpoints. Ces breakpoints sont associés à une adresse, et vont appeler une callback Python lorsque cette adresse est atteinte par l'émulateur. Elle peuvent retourner :\n",
    "- True: l'exécution continuera\n",
    "- Tout sauf True: l'exécution s'arrête et la main est redonnée en sortie de `continue_run`. La valeur renvoyée par `continue_run` est celle renvoyé par le breakpoint\n",
    "\n",
    "La syntaxe est la suivante :"
   ]
  },
  {
   "cell_type": "code",
   "execution_count": 15,
   "metadata": {},
   "outputs": [],
   "source": [
    "def hello_world(jitter):\n",
    "    print \"Hello, world!\"\n",
    "    print \"EAX value is %d\", jitter.cpu.EAX\n",
    "    # Stop execution right here\n",
    "    return False\n",
    "\n",
    "jitter.add_breakpoint(0x1005, hello_world)"
   ]
  },
  {
   "cell_type": "markdown",
   "metadata": {},
   "source": [
    "### Exercice 2\n",
    "Refaite l'exercice 1, mais cette fois-ci, ajouter un breakpoint sur l'adresse de retour que vous avez créé et mis sur la stack.\n",
    "Ce breakpoint permettra de vérifier que nous avons bien atteint le RET."
   ]
  },
  {
   "cell_type": "markdown",
   "metadata": {},
   "source": [
    "Dans Miasm, un mécanisme similaire est très souvent utilisé. Il est nommé \"code_sentinelle\", et permet de récupérer la main à la fin de l'exécution d'une fonction, d'un shellcode, etc.\n",
    "\n",
    "Le mécanisme des breakpoints permet cependant de faire bien plus; par exemple, il peut aussi être utilisé pour simuler les effets de bords d'un bout de code, comme une fonction. Il suffit pour cela d'avoir un breakpoint à l'adresse de la fonction, d'effectuer dedans les effets de bords voulus, puis de laisser l'exécution continuer plus loin. Ce dernier effet de bord est obtenu en modifiant la valeur de `jitter.pc` (pour *Program Counter*).\n",
    "\n",
    "Par exemple, un breakpoint contenant `jitter.pc = 0x1234` fera reprendre l'exécution de l'émulateur à l'adresse 0x1234."
   ]
  }
 ],
 "metadata": {
  "kernelspec": {
   "display_name": "Python 3",
   "language": "python",
   "name": "python3"
  },
  "language_info": {
   "codemirror_mode": {
    "name": "ipython",
    "version": 3
   },
   "file_extension": ".py",
   "mimetype": "text/x-python",
   "name": "python",
   "nbconvert_exporter": "python",
   "pygments_lexer": "ipython3",
   "version": "3.7.4"
  }
 },
 "nbformat": 4,
 "nbformat_minor": 2
}
